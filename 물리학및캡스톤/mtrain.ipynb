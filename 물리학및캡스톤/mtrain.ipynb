{
 "cells": [
  {
   "cell_type": "code",
   "execution_count": 6,
   "metadata": {},
   "outputs": [
    {
     "name": "stdout",
     "output_type": "stream",
     "text": [
      "정답률 = 0.7884231536926147\n",
      "리포트 =\n",
      "             precision    recall  f1-score   support\n",
      "\n",
      "          0       0.87      0.93      0.90        42\n",
      "          1       0.81      1.00      0.89        67\n",
      "          2       0.84      0.69      0.76        55\n",
      "          3       0.87      0.57      0.68        46\n",
      "          4       0.76      0.75      0.75        55\n",
      "          5       0.63      0.80      0.71        50\n",
      "          6       0.97      0.67      0.79        43\n",
      "          7       0.74      0.86      0.79        49\n",
      "          8       0.91      0.72      0.81        40\n",
      "          9       0.71      0.81      0.76        54\n",
      "\n",
      "avg / total       0.80      0.79      0.79       501\n",
      "\n"
     ]
    }
   ],
   "source": [
    "from sklearn import model_selection, svm, metrics\n",
    "# CSV 파일을 읽어 들이고 가공하기 --- (※1)\n",
    "def load_csv(fname):\n",
    "    labels = []\n",
    "    images = []\n",
    "    with open(fname, \"r\") as f:\n",
    "        for line in f:\n",
    "            cols = line.split(\",\")\n",
    "            if len(cols) < 2: continue\n",
    "            labels.append(int(cols.pop(0)))\n",
    "            vals = list(map(lambda n: int(n) / 256, cols))\n",
    "            images.append(vals)\n",
    "    return {\"labels\":labels, \"images\":images}\n",
    "data = load_csv(\"./mnist/train.csv\")\n",
    "test = load_csv(\"./mnist/t10k.csv\")\n",
    "# 학습하기 --- (※2)\n",
    "clf = svm.SVC()\n",
    "clf.fit(data[\"images\"], data[\"labels\"])\n",
    "# 예측하기 --- (※3)\n",
    "predict = clf.predict(test[\"images\"])\n",
    "# 결과 확인하기 --- (※4)\n",
    "ac_score = metrics.accuracy_score(test[\"labels\"], predict)\n",
    "cl_report = metrics.classification_report(test[\"labels\"], predict)\n",
    "print(\"정답률 =\", ac_score)\n",
    "print(\"리포트 =\")\n",
    "print(cl_report)"
   ]
  },
  {
   "cell_type": "code",
   "execution_count": null,
   "metadata": {},
   "outputs": [],
   "source": []
  }
 ],
 "metadata": {
  "kernelspec": {
   "display_name": "Python 3",
   "language": "python",
   "name": "python3"
  }
 },
 "nbformat": 4,
 "nbformat_minor": 2
}
