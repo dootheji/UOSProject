{
 "cells": [
  {
   "cell_type": "code",
   "execution_count": 17,
   "metadata": {},
   "outputs": [
    {
     "name": "stdout",
     "output_type": "stream",
     "text": [
      "[[-13.6  -3. ]\n",
      " [ -3.  -13.6]]\n",
      "\n",
      "[-10.6 -16.6]\n",
      "\n",
      "[[ 0.70710678  0.70710678]\n",
      " [-0.70710678  0.70710678]]\n",
      "\n"
     ]
    }
   ],
   "source": [
    "import numpy as np\n",
    "from numpy import linalg as LA\n",
    "H = -13.6\n",
    "t = -3\n",
    "a = np.matrix([[H,t],[t,H]])\n",
    "print(a)\n",
    "print(\"\")\n",
    "\n",
    "w,v=LA.eig(a)\n",
    "print(w)\n",
    "print(\"\")\n",
    "print(v)\n",
    "print(\"\")\n"
   ]
  },
  {
   "cell_type": "code",
   "execution_count": 22,
   "metadata": {},
   "outputs": [
    {
     "name": "stdout",
     "output_type": "stream",
     "text": [
      "[-17.84264069 -13.6         -9.35735931]\n",
      "\n",
      "[[ 5.00000000e-01 -7.07106781e-01  5.00000000e-01]\n",
      " [ 7.07106781e-01 -1.04662080e-15 -7.07106781e-01]\n",
      " [ 5.00000000e-01  7.07106781e-01  5.00000000e-01]]\n"
     ]
    }
   ],
   "source": [
    "import numpy as np\n",
    "from numpy import linalg as LA\n",
    "H = -13.6\n",
    "t = -3\n",
    "a = np.matrix([[H,t,0],[t,H,t],[0,t,H]])\n",
    "w,v = LA.eig(a)\n",
    "print(w)\n",
    "print(\"\")\n",
    "print(v)"
   ]
  },
  {
   "cell_type": "code",
   "execution_count": null,
   "metadata": {},
   "outputs": [],
   "source": [
    "import numpy as np\n",
    "from numpy import linalg as LA\n",
    "H = -13.6\n",
    "t = -3\n",
    "a = np.matrix([[t,H,t,0],[t,H,t],[0,t,H]])\n",
    "w,v = LA.eig(a)"
   ]
  }
 ],
 "metadata": {
  "kernelspec": {
   "display_name": "Python 3",
   "language": "python",
   "name": "python3"
  },
  "language_info": {
   "codemirror_mode": {
    "name": "ipython",
    "version": 3
   },
   "file_extension": ".py",
   "mimetype": "text/x-python",
   "name": "python",
   "nbconvert_exporter": "python",
   "pygments_lexer": "ipython3",
   "version": "3.6.5"
  }
 },
 "nbformat": 4,
 "nbformat_minor": 2
}
