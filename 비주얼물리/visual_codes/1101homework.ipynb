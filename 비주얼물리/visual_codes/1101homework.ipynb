{
 "cells": [
  {
   "cell_type": "code",
   "execution_count": 12,
   "metadata": {
    "scrolled": true
   },
   "outputs": [
    {
     "name": "stdout",
     "output_type": "stream",
     "text": [
      "H : \n",
      "[[ 0 -3]\n",
      " [-3  0]]\n",
      "\n",
      "eigen value : \n",
      "[ 3. -3.]\n",
      "\n",
      "eigen vector : \n",
      "[[ 0.70710678  0.70710678]\n",
      " [-0.70710678  0.70710678]]\n",
      "\n"
     ]
    }
   ],
   "source": [
    "#1\n",
    "import numpy as np\n",
    "from numpy import linalg as LA\n",
    "\n",
    "\n",
    "H = -13.6\n",
    "t = -3\n",
    "#a->b\n",
    "a = np.matrix([[0,t],[t,0]])\n",
    "print(\"H : \")\n",
    "print(a)\n",
    "print(\"\")\n",
    "\n",
    "w,v=LA.eig(a)\n",
    "print(\"eigen value : \")\n",
    "print(w)\n",
    "print(\"\")\n",
    "print(\"eigen vector : \")\n",
    "print(v)\n",
    "print(\"\")\n",
    "\n",
    "\n",
    "#Are the bonding orbitals symmetric or antisymmetric > yes\n",
    "#[[ 0.70710678  0.70710678] -> symmetric\n",
    "#[-0.70710678  0.70710678]] -> antisymmetric\n"
   ]
  },
  {
   "cell_type": "code",
   "execution_count": 4,
   "metadata": {},
   "outputs": [
    {
     "name": "stdout",
     "output_type": "stream",
     "text": [
      "H :  [[ 0 -3]\n",
      " [-3 -5]]\n",
      "\n",
      "[ 1.40512484 -6.40512484]\n",
      "\n",
      "[[ 0.90558942  0.4241554 ]\n",
      " [-0.4241554   0.90558942]]\n",
      "\n"
     ]
    }
   ],
   "source": [
    "#2\n",
    "import numpy as np\n",
    "from numpy import linalg as LA\n",
    "\n",
    "\n",
    "H = -13.6\n",
    "t = -3\n",
    "#a->b\n",
    "a = np.matrix([[0,t],[t,-5]])\n",
    "print(\"H : \" ,a)\n",
    "print(\"\")\n",
    "\n",
    "w,v=LA.eig(a)\n",
    "print(w)\n",
    "print(\"\")\n",
    "print(v)\n",
    "print(\"\")"
   ]
  },
  {
   "cell_type": "code",
   "execution_count": 11,
   "metadata": {},
   "outputs": [
    {
     "name": "stdout",
     "output_type": "stream",
     "text": [
      "H : \n",
      "eigen value : \n",
      "[-17.84264069 -13.6         -9.35735931]\n",
      "eigen vector : \n",
      "[[ 5.00000000e-01 -7.07106781e-01  5.00000000e-01]\n",
      " [ 7.07106781e-01 -1.04662080e-15 -7.07106781e-01]\n",
      " [ 5.00000000e-01  7.07106781e-01  5.00000000e-01]]\n"
     ]
    }
   ],
   "source": [
    "#3\n",
    "#three atoms\n",
    "import numpy as np\n",
    "from numpy import linalg as LA\n",
    "H = -13.6\n",
    "t = -3\n",
    "print(\"H : \")\n",
    "a = np.matrix([[H,t,0],[t,H,t],[0,t,H]])\n",
    "\n",
    "w,v = LA.eig(a)\n",
    "print(\"eigen value : \")\n",
    "print(w)\n",
    "print(\"eigen vector : \")\n",
    "print(v)"
   ]
  },
  {
   "cell_type": "code",
   "execution_count": null,
   "metadata": {},
   "outputs": [],
   "source": [
    "#4\n"
   ]
  }
 ],
 "metadata": {
  "kernelspec": {
   "display_name": "Python 3",
   "language": "python",
   "name": "python3"
  },
  "language_info": {
   "codemirror_mode": {
    "name": "ipython",
    "version": 3
   },
   "file_extension": ".py",
   "mimetype": "text/x-python",
   "name": "python",
   "nbconvert_exporter": "python",
   "pygments_lexer": "ipython3",
   "version": "3.6.5"
  }
 },
 "nbformat": 4,
 "nbformat_minor": 2
}
