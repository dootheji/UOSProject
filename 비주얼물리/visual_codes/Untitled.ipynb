{
 "cells": [
  {
   "cell_type": "code",
   "execution_count": 7,
   "metadata": {},
   "outputs": [
    {
     "name": "stdout",
     "output_type": "stream",
     "text": [
      "a comes before banana\n"
     ]
    }
   ],
   "source": [
    "word = 'a'\n",
    "\n",
    "if word<'banana' :\n",
    "    print (word + ' comes before banana')\n",
    "    \n",
    "if word>'banana' :\n",
    "    print (word + ' comes after banana')"
   ]
  },
  {
   "cell_type": "code",
   "execution_count": 8,
   "metadata": {},
   "outputs": [
    {
     "data": {
      "text/plain": [
       "['__add__',\n",
       " '__class__',\n",
       " '__contains__',\n",
       " '__delattr__',\n",
       " '__dir__',\n",
       " '__doc__',\n",
       " '__eq__',\n",
       " '__format__',\n",
       " '__ge__',\n",
       " '__getattribute__',\n",
       " '__getitem__',\n",
       " '__getnewargs__',\n",
       " '__gt__',\n",
       " '__hash__',\n",
       " '__init__',\n",
       " '__init_subclass__',\n",
       " '__iter__',\n",
       " '__le__',\n",
       " '__len__',\n",
       " '__lt__',\n",
       " '__mod__',\n",
       " '__mul__',\n",
       " '__ne__',\n",
       " '__new__',\n",
       " '__reduce__',\n",
       " '__reduce_ex__',\n",
       " '__repr__',\n",
       " '__rmod__',\n",
       " '__rmul__',\n",
       " '__setattr__',\n",
       " '__sizeof__',\n",
       " '__str__',\n",
       " '__subclasshook__',\n",
       " 'capitalize',\n",
       " 'casefold',\n",
       " 'center',\n",
       " 'count',\n",
       " 'encode',\n",
       " 'endswith',\n",
       " 'expandtabs',\n",
       " 'find',\n",
       " 'format',\n",
       " 'format_map',\n",
       " 'index',\n",
       " 'isalnum',\n",
       " 'isalpha',\n",
       " 'isdecimal',\n",
       " 'isdigit',\n",
       " 'isidentifier',\n",
       " 'islower',\n",
       " 'isnumeric',\n",
       " 'isprintable',\n",
       " 'isspace',\n",
       " 'istitle',\n",
       " 'isupper',\n",
       " 'join',\n",
       " 'ljust',\n",
       " 'lower',\n",
       " 'lstrip',\n",
       " 'maketrans',\n",
       " 'partition',\n",
       " 'replace',\n",
       " 'rfind',\n",
       " 'rindex',\n",
       " 'rjust',\n",
       " 'rpartition',\n",
       " 'rsplit',\n",
       " 'rstrip',\n",
       " 'split',\n",
       " 'splitlines',\n",
       " 'startswith',\n",
       " 'strip',\n",
       " 'swapcase',\n",
       " 'title',\n",
       " 'translate',\n",
       " 'upper',\n",
       " 'zfill']"
      ]
     },
     "execution_count": 8,
     "metadata": {},
     "output_type": "execute_result"
    }
   ],
   "source": [
    "dir('a')"
   ]
  },
  {
   "cell_type": "code",
   "execution_count": 9,
   "metadata": {},
   "outputs": [],
   "source": [
    "str = 'my name is siyeon'"
   ]
  },
  {
   "cell_type": "code",
   "execution_count": 12,
   "metadata": {},
   "outputs": [
    {
     "data": {
      "text/plain": [
       "'MY NAME IS SIYEON'"
      ]
     },
     "execution_count": 12,
     "metadata": {},
     "output_type": "execute_result"
    }
   ],
   "source": [
    "str.upper()"
   ]
  },
  {
   "cell_type": "code",
   "execution_count": 13,
   "metadata": {},
   "outputs": [
    {
     "data": {
      "text/plain": [
       "'my name is siyeon'"
      ]
     },
     "execution_count": 13,
     "metadata": {},
     "output_type": "execute_result"
    }
   ],
   "source": [
    "str"
   ]
  },
  {
   "cell_type": "raw",
   "metadata": {},
   "source": [
    "str.find('s')"
   ]
  },
  {
   "cell_type": "code",
   "execution_count": 17,
   "metadata": {},
   "outputs": [
    {
     "data": {
      "text/plain": [
       "9"
      ]
     },
     "execution_count": 17,
     "metadata": {},
     "output_type": "execute_result"
    }
   ],
   "source": [
    "str.find('s',5,10)"
   ]
  },
  {
   "cell_type": "code",
   "execution_count": 19,
   "metadata": {},
   "outputs": [
    {
     "data": {
      "text/plain": [
       "'my name iS Siyeon'"
      ]
     },
     "execution_count": 19,
     "metadata": {},
     "output_type": "execute_result"
    }
   ],
   "source": [
    "str.replace('s', 'S')"
   ]
  },
  {
   "cell_type": "code",
   "execution_count": 20,
   "metadata": {},
   "outputs": [],
   "source": [
    "strsp = ' My name is Siyeon'"
   ]
  },
  {
   "cell_type": "code",
   "execution_count": 21,
   "metadata": {},
   "outputs": [
    {
     "data": {
      "text/plain": [
       "'My name is Siyeon'"
      ]
     },
     "execution_count": 21,
     "metadata": {},
     "output_type": "execute_result"
    }
   ],
   "source": [
    "strsp.strip()"
   ]
  },
  {
   "cell_type": "code",
   "execution_count": 24,
   "metadata": {},
   "outputs": [
    {
     "data": {
      "text/plain": [
       "True"
      ]
     },
     "execution_count": 24,
     "metadata": {},
     "output_type": "execute_result"
    }
   ],
   "source": [
    "str.startswith('my')"
   ]
  },
  {
   "cell_type": "code",
   "execution_count": 25,
   "metadata": {},
   "outputs": [
    {
     "data": {
      "text/plain": [
       "True"
      ]
     },
     "execution_count": 25,
     "metadata": {},
     "output_type": "execute_result"
    }
   ],
   "source": [
    "str.upper().startswith('M')"
   ]
  },
  {
   "cell_type": "code",
   "execution_count": 39,
   "metadata": {},
   "outputs": [
    {
     "data": {
      "text/plain": [
       "0.8475"
      ]
     },
     "execution_count": 39,
     "metadata": {},
     "output_type": "execute_result"
    }
   ],
   "source": [
    "#2\n",
    "str = 'X-DSPAM-Confidence:0.8475'\n",
    "str.find(':')\n",
    "len(str)\n",
    "str[19:25]\n",
    "answer = float(str[19:25])\n",
    "answer"
   ]
  },
  {
   "cell_type": "code",
   "execution_count": 40,
   "metadata": {},
   "outputs": [],
   "source": [
    "#3\n",
    "data = 'From stephen.marquard@uct.ac.za Sat Jan 5 09:14:16 2008'"
   ]
  },
  {
   "cell_type": "code",
   "execution_count": 43,
   "metadata": {},
   "outputs": [
    {
     "data": {
      "text/plain": [
       "32"
      ]
     },
     "execution_count": 43,
     "metadata": {},
     "output_type": "execute_result"
    }
   ],
   "source": [
    "data.find('Sat')"
   ]
  },
  {
   "cell_type": "code",
   "execution_count": 44,
   "metadata": {},
   "outputs": [
    {
     "data": {
      "text/plain": [
       "55"
      ]
     },
     "execution_count": 44,
     "metadata": {},
     "output_type": "execute_result"
    }
   ],
   "source": [
    "len(data)"
   ]
  },
  {
   "cell_type": "code",
   "execution_count": 45,
   "metadata": {},
   "outputs": [
    {
     "data": {
      "text/plain": [
       "'Sat Jan 5 09:14:16 2008'"
      ]
     },
     "execution_count": 45,
     "metadata": {},
     "output_type": "execute_result"
    }
   ],
   "source": [
    "data[32:55]"
   ]
  },
  {
   "cell_type": "code",
   "execution_count": 51,
   "metadata": {},
   "outputs": [
    {
     "data": {
      "text/plain": [
       "'Sat Jan 5 09:14:16 2008'"
      ]
     },
     "execution_count": 51,
     "metadata": {},
     "output_type": "execute_result"
    }
   ],
   "source": [
    "answer3 = data[32:55]\n",
    "answer3"
   ]
  },
  {
   "cell_type": "code",
   "execution_count": 53,
   "metadata": {},
   "outputs": [],
   "source": [
    "#--------------------------------"
   ]
  },
  {
   "cell_type": "code",
   "execution_count": 58,
   "metadata": {},
   "outputs": [
    {
     "name": "stdout",
     "output_type": "stream",
     "text": [
      "0 . 박재석\n",
      "1 . 장은지\n",
      "2 . 설재영\n",
      "3 . 윤성환\n",
      "4 . 이상우\n",
      "5 . 박현호\n",
      "6 . 백정현\n",
      "7 . 승준우\n",
      "8 . 이순열\n",
      "9 . 이영찬\n",
      "10 . 정주원\n",
      "11 . 김현장\n",
      "12 . 지한나\n",
      "13 . 서지원\n",
      "14 . 이시연\n",
      "15 . 한기혁\n"
     ]
    }
   ],
   "source": [
    "#1\n",
    "name = ['박재석','장은지','설재영','윤성환','이상우','박현호','백정현','승준우','이순열','이영찬','정주원','김현장','지한나','서지원','이시연','한기혁']\n",
    "\n",
    "for i in range (len(name)) :\n",
    "    print( i, \".\", name[i])\n"
   ]
  },
  {
   "cell_type": "code",
   "execution_count": 56,
   "metadata": {},
   "outputs": [
    {
     "data": {
      "text/plain": [
       "'장은지'"
      ]
     },
     "execution_count": 56,
     "metadata": {},
     "output_type": "execute_result"
    }
   ],
   "source": [
    "name[1]"
   ]
  },
  {
   "cell_type": "code",
   "execution_count": 64,
   "metadata": {},
   "outputs": [
    {
     "data": {
      "text/plain": [
       "'I have 100.1 cars'"
      ]
     },
     "execution_count": 64,
     "metadata": {},
     "output_type": "execute_result"
    }
   ],
   "source": [
    "\n",
    "cars=100\n",
    "fcars = 100.1\n",
    "'I have %g cars' % fcars\n"
   ]
  },
  {
   "cell_type": "code",
   "execution_count": 63,
   "metadata": {},
   "outputs": [
    {
     "data": {
      "text/plain": [
       "'I have 100 cars'"
      ]
     },
     "execution_count": 63,
     "metadata": {},
     "output_type": "execute_result"
    }
   ],
   "source": [
    "'I have %d cars' % fcars"
   ]
  },
  {
   "cell_type": "code",
   "execution_count": 9,
   "metadata": {},
   "outputs": [
    {
     "data": {
      "text/plain": [
       "'I have a Ferrari'"
      ]
     },
     "execution_count": 9,
     "metadata": {},
     "output_type": "execute_result"
    }
   ],
   "source": [
    "scars = 'Ferrari'\n",
    "'I have a %s' % scars"
   ]
  },
  {
   "cell_type": "code",
   "execution_count": 10,
   "metadata": {},
   "outputs": [],
   "source": [
    "############################################"
   ]
  },
  {
   "cell_type": "code",
   "execution_count": 84,
   "metadata": {},
   "outputs": [],
   "source": [
    "fhand = open('mailbox.txt')"
   ]
  },
  {
   "cell_type": "code",
   "execution_count": 86,
   "metadata": {},
   "outputs": [
    {
     "name": "stdout",
     "output_type": "stream",
     "text": [
      "Received: from murder (mail.umich.edu [141.211.14.90])\n",
      "\n",
      "     Sat, 05 Jan 2008 09:14:16 -0500\n",
      "\n",
      "Received: from murder ([unix socket])\n",
      "\n",
      "     Sat, 05 Jan 2008 09:14:16 -0500\n",
      "\n",
      "    by flawless.mail.umich.edu () with ESMTP id m05EEFR1013674;\n",
      "\n",
      "Received: FROM paploo.uhi.ac.uk (app1.prod.collab.uhi.ac.uk [194.35.219.184])\n",
      "\n",
      "     5 Jan 2008 09:14:10 -0500\n",
      "\n",
      "    by paploo.uhi.ac.uk (Postfix) with ESMTP id 5F919BC2F2;\n",
      "\n",
      "Message-ID: <200801051412.m05ECIaH010327@nakamura.uits.iupui.edu>\n",
      "\n",
      "Content-Transfer-Encoding: 7bit\n",
      "\n",
      "          by paploo.uhi.ac.uk (JAMES SMTP Server 2.1.3) with SMTP ID 899\n",
      "\n",
      "          Sat, 5 Jan 2008 14:09:50 +0000 (GMT)\n",
      "\n",
      "    by shmi.uhi.ac.uk (Postfix) with ESMTP id A215243002\n",
      "\n",
      "Received: from nakamura.uits.iupui.edu (localhost [127.0.0.1])\n",
      "\n",
      "    for <source@collab.sakaiproject.org>; Sat, 5 Jan 2008 09:12:19 -0500\n",
      "\n",
      "    by nakamura.uits.iupui.edu (8.12.11.20060308/8.12.11/Submit) id m05ECIaH010327\n",
      "\n",
      "Date: Sat, 5 Jan 2008 09:12:18 -0500\n",
      "\n",
      "To: source@collab.sakaiproject.org\n",
      "\n",
      "Subject: [sakai] svn commit: r39772 - content/branches/sakai_2-5-x/content-impl/impl/src/java/org/sakaiproject/content/impl\n",
      "\n",
      "X-Content-Type-Message-Body: text/plain; charset=UTF-8\n",
      "\n",
      "X-DSPAM-Result: Innocent\n",
      "\n",
      "X-DSPAM-Confidence: 0.8475\n",
      "\n",
      "\n",
      "\n",
      "\n",
      "\n",
      "Date: 2008-01-05 09:12:07 -0500 (Sat, 05 Jan 2008)\n",
      "\n",
      "\n",
      "\n",
      "content/branches/sakai_2-5-x/content-impl/impl/src/java/org/sakaiproject/content/impl/ContentServiceSqlOracle.java\n",
      "\n",
      "Log:\n",
      "\n",
      "\n",
      "\n",
      "This automatic notification message was sent by Sakai Collab (https://collab.sakaiproject.org/portal) from the Source site.\n",
      "\n",
      "\n",
      "\n",
      "\n",
      "\n",
      "Return-Path: <postmaster@collab.sakaiproject.org>\n",
      "\n",
      "     by frankenstein.mail.umich.edu (Cyrus v2.3.8) with LMTPA;\n",
      "\n",
      "X-Sieve: CMU Sieve 2.3\n",
      "\n",
      "     by mail.umich.edu (Cyrus v2.2.12) with LMTPA;\n",
      "\n",
      "Received: from icestorm.mr.itd.umich.edu (icestorm.mr.itd.umich.edu [141.211.93.149])\n",
      "\n",
      "    Fri, 4 Jan 2008 18:10:37 -0500\n",
      "\n",
      "    BY icestorm.mr.itd.umich.edu ID 477EBCE3.161BB.4320 ; \n",
      "\n",
      "Received: from paploo.uhi.ac.uk (localhost [127.0.0.1])\n",
      "\n",
      "    Fri,  4 Jan 2008 23:10:33 +0000 (GMT)\n",
      "\n",
      "Mime-Version: 1.0\n",
      "\n",
      "Received: from prod.collab.uhi.ac.uk ([194.35.219.182])\n",
      "\n",
      "          for <source@collab.sakaiproject.org>;\n",
      "\n",
      "Received: from nakamura.uits.iupui.edu (nakamura.uits.iupui.edu [134.68.220.122])\n",
      "\n",
      "    for <source@collab.sakaiproject.org>; Fri,  4 Jan 2008 23:10:10 +0000 (GMT)\n",
      "\n",
      "    by nakamura.uits.iupui.edu (8.12.11.20060308/8.12.11) with ESMTP id m04N8vHG008127\n",
      "\n",
      "Received: (from apache@localhost)\n",
      "\n",
      "    for source@collab.sakaiproject.org; Fri, 4 Jan 2008 18:08:57 -0500\n",
      "\n",
      "X-Authentication-Warning: nakamura.uits.iupui.edu: apache set sender to louis@media.berkeley.edu using -f\n",
      "\n",
      "From: louis@media.berkeley.edu\n",
      "\n",
      "X-Content-Type-Outer-Envelope: text/plain; charset=UTF-8\n",
      "\n",
      "Content-Type: text/plain; charset=UTF-8\n",
      "\n",
      "X-DSPAM-Processed: Fri Jan  4 18:10:48 2008\n",
      "\n",
      "X-DSPAM-Probability: 0.0000\n",
      "\n",
      "Details: http://source.sakaiproject.org/viewsvn/?view=rev&rev=39771\n",
      "\n",
      "Author: louis@media.berkeley.edu\n",
      "\n",
      "New Revision: 39771\n",
      "\n",
      "Modified:\n",
      "\n",
      "bspace/site-manage/sakai_2-4-x/site-manage-tool/tool/src/java/org/sakaiproject/site/tool/SiteAction.java\n",
      "\n",
      "BSP-1415 New (Guest) user Notification\n",
      "\n",
      "----------------------\n",
      "\n",
      "You can modify how you receive notifications at My Workspace > Preferences.\n",
      "\n",
      "\n",
      "\n",
      "From zqian@umich.edu Fri Jan  4 16:10:39 2008\n",
      "\n",
      "Received: from murder (mail.umich.edu [141.211.14.25])\n",
      "\n",
      "     Fri, 04 Jan 2008 16:10:39 -0500\n",
      "\n",
      "Received: from murder ([unix socket])\n",
      "\n",
      "     Fri, 04 Jan 2008 16:10:39 -0500\n",
      "\n",
      "    by panther.mail.umich.edu () with ESMTP id m04LAcZw014275;\n",
      "\n",
      "Received: FROM paploo.uhi.ac.uk (app1.prod.collab.uhi.ac.uk [194.35.219.184])\n",
      "\n",
      "     4 Jan 2008 16:10:33 -0500\n",
      "\n",
      "    by paploo.uhi.ac.uk (Postfix) with ESMTP id C48CDBB490;\n",
      "\n",
      "Message-ID: <200801042109.m04L92hb007923@nakamura.uits.iupui.edu>\n",
      "\n",
      "Content-Transfer-Encoding: 7bit\n",
      "\n",
      "          by paploo.uhi.ac.uk (JAMES SMTP Server 2.1.3) with SMTP ID 906\n",
      "\n",
      "          Fri, 4 Jan 2008 21:10:18 +0000 (GMT)\n",
      "\n",
      "    by shmi.uhi.ac.uk (Postfix) with ESMTP id 7D13042F71\n",
      "\n",
      "Received: from nakamura.uits.iupui.edu (localhost [127.0.0.1])\n",
      "\n",
      "    for <source@collab.sakaiproject.org>; Fri, 4 Jan 2008 16:09:02 -0500\n",
      "\n",
      "    by nakamura.uits.iupui.edu (8.12.11.20060308/8.12.11/Submit) id m04L92hb007923\n",
      "\n",
      "Date: Fri, 4 Jan 2008 16:09:02 -0500\n",
      "\n",
      "To: source@collab.sakaiproject.org\n",
      "\n",
      "Subject: [sakai] svn commit: r39770 - site-manage/branches/sakai_2-5-x/site-manage-tool/tool/src/webapp/vm/sitesetup\n",
      "\n",
      "X-Content-Type-Message-Body: text/plain; charset=UTF-8\n",
      "\n",
      "X-DSPAM-Result: Innocent\n",
      "\n",
      "X-DSPAM-Confidence: 0.6961\n",
      "\n",
      "\n",
      "\n",
      "\n",
      "\n",
      "Date: 2008-01-04 16:09:01 -0500 (Fri, 04 Jan 2008)\n",
      "\n",
      "\n",
      "\n",
      "site-manage/branches/sakai_2-5-x/site-manage-tool/tool/src/webapp/vm/sitesetup/chef_site-siteInfo-list.vm\n",
      "\n",
      "merge fix to SAK-9996 into 2-5-x branch: svn merge -r 39687:39688 https://source.sakaiproject.org/svn/site-manage/trunk/\n",
      "\n",
      "----------------------\n",
      "\n",
      "You can modify how you receive notifications at My Workspace > Preferences.\n",
      "\n",
      "\n",
      "\n",
      "From rjlowe@iupui.edu Fri Jan  4 15:46:24 2008\n",
      "\n",
      "Received: from murder (mail.umich.edu [141.211.14.25])\n",
      "\n",
      "     Fri, 04 Jan 2008 15:46:24 -0500\n",
      "\n",
      "Received: from murder ([unix socket])\n",
      "\n",
      "     Fri, 04 Jan 2008 15:46:24 -0500\n",
      "\n",
      "    by panther.mail.umich.edu () with ESMTP id m04KkNbx032077;\n",
      "\n",
      "Received: FROM paploo.uhi.ac.uk (app1.prod.collab.uhi.ac.uk [194.35.219.184])\n",
      "\n",
      "     4 Jan 2008 15:46:13 -0500\n",
      "\n",
      "    by paploo.uhi.ac.uk (Postfix) with ESMTP id 4AE03BB552;\n",
      "\n",
      "Message-ID: <200801042044.m04Kiem3007881@nakamura.uits.iupui.edu>\n",
      "\n",
      "Content-Transfer-Encoding: 7bit\n",
      "\n",
      "          by paploo.uhi.ac.uk (JAMES SMTP Server 2.1.3) with SMTP ID 38\n",
      "\n",
      "          Fri, 4 Jan 2008 20:45:56 +0000 (GMT)\n",
      "\n",
      "    by shmi.uhi.ac.uk (Postfix) with ESMTP id A55D242F57\n",
      "\n",
      "Received: from nakamura.uits.iupui.edu (localhost [127.0.0.1])\n",
      "\n",
      "    for <source@collab.sakaiproject.org>; Fri, 4 Jan 2008 15:44:40 -0500\n",
      "\n",
      "    by nakamura.uits.iupui.edu (8.12.11.20060308/8.12.11/Submit) id m04Kiem3007881\n",
      "\n",
      "Date: Fri, 4 Jan 2008 15:44:40 -0500\n",
      "\n",
      "To: source@collab.sakaiproject.org\n",
      "\n",
      "Subject: [sakai] svn commit: r39769 - in gradebook/trunk/app/ui/src: java/org/sakaiproject/tool/gradebook/ui/helpers/beans java/org/sakaiproject/tool/gradebook/ui/helpers/producers webapp/WEB-INF webapp/WEB-INF/bundle\n",
      "\n",
      "X-Content-Type-Message-Body: text/plain; charset=UTF-8\n",
      "\n",
      "X-DSPAM-Result: Innocent\n",
      "\n",
      "X-DSPAM-Confidence: 0.7565\n",
      "\n",
      "\n",
      "\n",
      "\n",
      "\n",
      "New Revision: 39769\n",
      "\n",
      "Modified:\n",
      "\n",
      "gradebook/trunk/app/ui/src/java/org/sakaiproject/tool/gradebook/ui/helpers/producers/GradeGradebookItemProducer.java\n",
      "\n",
      "gradebook/trunk/app/ui/src/webapp/WEB-INF/bundle/messages.properties\n",
      "\n",
      "Log:\n",
      "\n",
      "\n",
      "\n",
      "This automatic notification message was sent by Sakai Collab (https://collab.sakaiproject.org/portal) from the Source site.\n",
      "\n",
      "\n",
      "\n",
      "\n",
      "\n",
      "Return-Path: <postmaster@collab.sakaiproject.org>\n",
      "\n",
      "     by frankenstein.mail.umich.edu (Cyrus v2.3.8) with LMTPA;\n",
      "\n",
      "X-Sieve: CMU Sieve 2.3\n",
      "\n",
      "     by mail.umich.edu (Cyrus v2.2.12) with LMTPA;\n",
      "\n",
      "Received: from firestarter.mr.itd.umich.edu (firestarter.mr.itd.umich.edu [141.211.14.83])\n",
      "\n",
      "    Fri, 4 Jan 2008 15:03:17 -0500\n",
      "\n",
      "    BY firestarter.mr.itd.umich.edu ID 477E9100.8F7F4.1590 ; \n",
      "\n",
      "Received: from paploo.uhi.ac.uk (localhost [127.0.0.1])\n",
      "\n",
      "    Fri,  4 Jan 2008 20:03:09 +0000 (GMT)\n",
      "\n",
      "Mime-Version: 1.0\n",
      "\n",
      "Received: from prod.collab.uhi.ac.uk ([194.35.219.182])\n",
      "\n",
      "          for <source@collab.sakaiproject.org>;\n",
      "\n",
      "Received: from nakamura.uits.iupui.edu (nakamura.uits.iupui.edu [134.68.220.122])\n",
      "\n",
      "    for <source@collab.sakaiproject.org>; Fri,  4 Jan 2008 20:02:50 +0000 (GMT)\n",
      "\n",
      "    by nakamura.uits.iupui.edu (8.12.11.20060308/8.12.11) with ESMTP id m04K1cXv007740\n",
      "\n",
      "Received: (from apache@localhost)\n",
      "\n",
      "    for source@collab.sakaiproject.org; Fri, 4 Jan 2008 15:01:38 -0500\n",
      "\n",
      "X-Authentication-Warning: nakamura.uits.iupui.edu: apache set sender to zqian@umich.edu using -f\n",
      "\n",
      "From: zqian@umich.edu\n",
      "\n",
      "X-Content-Type-Outer-Envelope: text/plain; charset=UTF-8\n",
      "\n",
      "Content-Type: text/plain; charset=UTF-8\n",
      "\n",
      "X-DSPAM-Processed: Fri Jan  4 15:03:18 2008\n",
      "\n",
      "X-DSPAM-Probability: 0.0000\n",
      "\n",
      "Details: http://source.sakaiproject.org/viewsvn/?view=rev&rev=39766\n",
      "\n",
      "Author: zqian@umich.edu\n",
      "\n",
      "New Revision: 39766\n",
      "\n",
      "Modified:\n",
      "\n",
      "Log:\n",
      "\n",
      "\n",
      "\n",
      "\n",
      "\n",
      "Files Changed\n",
      "\n",
      "\n",
      "the numbers of mail is  28\n"
     ]
    }
   ],
   "source": [
    "\n",
    "ncount = 0\n",
    "\n",
    "for i in fhand :\n",
    "    inp=fhand.readline()\n",
    "    \n",
    "    print(inp)\n",
    "    if int(inp.upper().find('FROM')) != -1 :\n",
    "        ncount = ncount +1\n",
    "        \n",
    "print ('the numbers of mail is ', ncount)"
   ]
  },
  {
   "cell_type": "code",
   "execution_count": 75,
   "metadata": {},
   "outputs": [],
   "source": [
    "string='F\\nt'"
   ]
  },
  {
   "cell_type": "code",
   "execution_count": 76,
   "metadata": {},
   "outputs": [
    {
     "name": "stdout",
     "output_type": "stream",
     "text": [
      "F\n",
      "t\n"
     ]
    }
   ],
   "source": [
    "print(string)"
   ]
  },
  {
   "cell_type": "code",
   "execution_count": 77,
   "metadata": {},
   "outputs": [
    {
     "data": {
      "text/plain": [
       "3"
      ]
     },
     "execution_count": 77,
     "metadata": {},
     "output_type": "execute_result"
    }
   ],
   "source": [
    "len(string)"
   ]
  },
  {
   "cell_type": "code",
   "execution_count": 79,
   "metadata": {},
   "outputs": [
    {
     "data": {
      "text/plain": [
       "115"
      ]
     },
     "execution_count": 79,
     "metadata": {},
     "output_type": "execute_result"
    }
   ],
   "source": [
    "fhand = open('mailbox.txt')\n",
    "text =fhand.read()\n",
    "keyword = 'from'\n",
    "text.find(keyword)"
   ]
  },
  {
   "cell_type": "code",
   "execution_count": 4,
   "metadata": {},
   "outputs": [],
   "source": []
  },
  {
   "cell_type": "code",
   "execution_count": 128,
   "metadata": {},
   "outputs": [
    {
     "name": "stdout",
     "output_type": "stream",
     "text": [
      "\n",
      "m stephen.marquard@uct.ac.za Sat Jan  5 09:14:16 2008\n",
      "Return-Path: <postmaster@collab.sakaiproject.org>\n",
      "Received: from murder (mail.umich.edu [141.211.14.90])\n",
      "     by frankenstein.mail.umich.edu (Cyrus v2.3.8) with LMTPA;\n",
      "     Sat, 05 Jan 2008 09:14:16 -0500\n",
      "X-Sieve: CMU Sieve 2.3\n",
      "Received: from murder ([unix socket])\n",
      "     by mail.umich.edu (Cyrus v2.2.12) with LMTPA;\n",
      "     Sat, 05 Jan 2008 09:14:16 -0500\n",
      "Received: from holes.mr.itd.umich.edu (holes.mr.itd.umich.edu [141.211.14.79])\n",
      "    by flawless.mail.umich.edu () with ESMTP id m05EEFR1013674;\n",
      "    Sat, 5 Jan 2008 09:14:15 -0500\n",
      "Received: FROM paploo.uhi.ac.uk (app1.prod.collab.uhi.ac.uk [194.35.219.184])\n",
      "    BY holes.mr.itd.umich.edu ID 477F90B0.2DB2F.12494 ; \n",
      "     5 Jan 2008 09:14:10 -0500\n",
      "Received: from paploo.uhi.ac.uk (localhost [127.0.0.1])\n",
      "    by paploo.uhi.ac.uk (Postfix) with ESMTP id 5F919BC2F2;\n",
      "    Sat,  5 Jan 2008 14:10:05 +0000 (GMT)\n",
      "Message-ID: <200801051412.m05ECIaH010327@nakamura.uits.iupui.edu>\n",
      "Mime-Version: 1.0\n",
      "Content-Transfer-Encoding: 7bit\n",
      "Received: from prod.collab.uhi.ac.uk ([194.35.219.182])\n",
      "          by paploo.uhi.ac.uk (JAMES SMTP Server 2.1.3) with SMTP ID 899\n",
      "          for <source@collab.sakaiproject.org>;\n",
      "          Sat, 5 Jan 2008 14:09:50 +0000 (GMT)\n",
      "Received: from nakamura.uits.iupui.edu (nakamura.uits.iupui.edu [134.68.220.122])\n",
      "    by shmi.uhi.ac.uk (Postfix) with ESMTP id A215243002\n",
      "    for <source@collab.sakaiproject.org>; Sat,  5 Jan 2008 14:13:33 +0000 (GMT)\n",
      "Received: from nakamura.uits.iupui.edu (localhost [127.0.0.1])\n",
      "    by nakamura.uits.iupui.edu (8.12.11.20060308/8.12.11) with ESMTP id m05ECJVp010329\n",
      "    for <source@collab.sakaiproject.org>; Sat, 5 Jan 2008 09:12:19 -0500\n",
      "Received: (from apache@localhost)\n",
      "    by nakamura.uits.iupui.edu (8.12.11.20060308/8.12.11/Submit) id m05ECIaH010327\n",
      "    for source@collab.sakaiproject.org; Sat, 5 Jan 2008 09:12:18 -0500\n",
      "Date: Sat, 5 Jan 2008 09:12:18 -0500\n",
      "X-Authentication-Warning: nakamura.uits.iupui.edu: apache set sender to stephen.marquard@uct.ac.za using -f\n",
      "To: source@collab.sakaiproject.org\n",
      "From: stephen.marquard@uct.ac.za\n",
      "Subject: [sakai] svn commit: r39772 - content/branches/sakai_2-5-x/content-impl/impl/src/java/org/sakaiproject/content/impl\n",
      "X-Content-Type-Outer-Envelope: text/plain; charset=UTF-8\n",
      "X-Content-Type-Message-Body: text/plain; charset=UTF-8\n",
      "Content-Type: text/plain; charset=UTF-8\n",
      "X-DSPAM-Result: Innocent\n",
      "X-DSPAM-Processed: Sat Jan  5 09:14:16 2008\n",
      "X-DSPAM-Confidence: 0.8475\n",
      "X-DSPAM-Probability: 0.0000\n",
      "\n",
      "Details: http://source.sakaiproject.org/viewsvn/?view=rev&rev=39772\n",
      "\n",
      "Author: stephen.marquard@uct.ac.za\n",
      "Date: 2008-01-05 09:12:07 -0500 (Sat, 05 Jan 2008)\n",
      "New Revision: 39772\n",
      "\n",
      "Modified:\n",
      "content/branches/sakai_2-5-x/content-impl/impl/src/java/org/sakaiproject/content/impl/ContentServiceSqlOracle.java\n",
      "content/branches/sakai_2-5-x/content-impl/impl/src/java/org/sakaiproject/content/impl/DbContentService.java\n",
      "Log:\n",
      "SAK-12501 merge to 2-5-x: r39622, r39624:5, r39632:3 (resolve conflict from differing linebreaks for r39622)\n",
      "\n",
      "----------------------\n",
      "This automatic notification message was sent by Sakai Collab (https://collab.sakaiproject.org/portal) from the Source site.\n",
      "You can modify how you receive notifications at My Workspace > Preferences.\n",
      "\n",
      "\n",
      "\n",
      "From louis@media.berkeley.edu Fri Jan  4 18:10:48 2008\n",
      "Return-Path: <postmaster@collab.sakaiproject.org>\n",
      "Received: from murder (mail.umich.edu [141.211.14.97])\n",
      "     by frankenstein.mail.umich.edu (Cyrus v2.3.8) with LMTPA;\n",
      "     Fri, 04 Jan 2008 18:10:48 -0500\n",
      "X-Sieve: CMU Sieve 2.3\n",
      "Received: from murder ([unix socket])\n",
      "     by mail.umich.edu (Cyrus v2.2.12) with LMTPA;\n",
      "     Fri, 04 Jan 2008 18:10:48 -0500\n",
      "Received: from icestorm.mr.itd.umich.edu (icestorm.mr.itd.umich.edu [141.211.93.149])\n",
      "    by sleepers.mail.umich.edu () with ESMTP id m04NAbGa029441;\n",
      "    Fri, 4 Jan 2008 18:10:37 -0500\n",
      "Received: FROM paploo.uhi.ac.uk (app1.prod.collab.uhi.ac.uk [194.35.219.184])\n",
      "    BY icestorm.mr.itd.umich.edu ID 477EBCE3.161BB.4320 ; \n",
      "     4 Jan 2008 18:10:31 -0500\n",
      "Received: from paploo.uhi.ac.uk (localhost [127.0.0.1])\n",
      "    by paploo.uhi.ac.uk (Postfix) with ESMTP id 07969BB706;\n",
      "    Fri,  4 Jan 2008 23:10:33 +0000 (GMT)\n",
      "Message-ID: <200801042308.m04N8v6O008125@nakamura.uits.iupui.edu>\n",
      "Mime-Version: 1.0\n",
      "Content-Transfer-Encoding: 7bit\n",
      "Received: from prod.collab.uhi.ac.uk ([194.35.219.182])\n",
      "          by paploo.uhi.ac.uk (JAMES SMTP Server 2.1.3) with SMTP ID 710\n",
      "          for <source@collab.sakaiproject.org>;\n",
      "          Fri, 4 Jan 2008 23:10:10 +0000 (GMT)\n",
      "Received: from nakamura.uits.iupui.edu (nakamura.uits.iupui.edu [134.68.220.122])\n",
      "    by shmi.uhi.ac.uk (Postfix) with ESMTP id 4BA2F42F57\n",
      "    for <source@collab.sakaiproject.org>; Fri,  4 Jan 2008 23:10:10 +0000 (GMT)\n",
      "Received: from nakamura.uits.iupui.edu (localhost [127.0.0.1])\n",
      "    by nakamura.uits.iupui.edu (8.12.11.20060308/8.12.11) with ESMTP id m04N8vHG008127\n",
      "    for <source@collab.sakaiproject.org>; Fri, 4 Jan 2008 18:08:57 -0500\n",
      "Received: (from apache@localhost)\n",
      "    by nakamura.uits.iupui.edu (8.12.11.20060308/8.12.11/Submit) id m04N8v6O008125\n",
      "    for source@collab.sakaiproject.org; Fri, 4 Jan 2008 18:08:57 -0500\n",
      "Date: Fri, 4 Jan 2008 18:08:57 -0500\n",
      "X-Authentication-Warning: nakamura.uits.iupui.edu: apache set sender to louis@media.berkeley.edu using -f\n",
      "To: source@collab.sakaiproject.org\n",
      "From: louis@media.berkeley.edu\n",
      "Subject: [sakai] svn commit: r39771 - in bspace/site-manage/sakai_2-4-x/site-manage-tool/tool/src: bundle java/org/sakaiproject/site/tool\n",
      "X-Content-Type-Outer-Envelope: text/plain; charset=UTF-8\n",
      "X-Content-Type-Message-Body: text/plain; charset=UTF-8\n",
      "Content-Type: text/plain; charset=UTF-8\n",
      "X-DSPAM-Result: Innocent\n",
      "X-DSPAM-Processed: Fri Jan  4 18:10:48 2008\n",
      "X-DSPAM-Confidence: 0.6178\n",
      "X-DSPAM-Probability: 0.0000\n",
      "\n",
      "Details: http://source.sakaiproject.org/viewsvn/?view=rev&rev=39771\n",
      "\n",
      "Author: louis@media.berkeley.edu\n",
      "Date: 2008-01-04 18:08:50 -0500 (Fri, 04 Jan 2008)\n",
      "New Revision: 39771\n",
      "\n",
      "Modified:\n",
      "bspace/site-manage/sakai_2-4-x/site-manage-tool/tool/src/bundle/sitesetupgeneric.properties\n",
      "bspace/site-manage/sakai_2-4-x/site-manage-tool/tool/src/java/org/sakaiproject/site/tool/SiteAction.java\n",
      "Log:\n",
      "BSP-1415 New (Guest) user Notification\n",
      "\n",
      "----------------------\n",
      "This automatic notification message was sent by Sakai Collab (https://collab.sakaiproject.org/portal) from the Source site.\n",
      "You can modify how you receive notifications at My Workspace > Preferences.\n",
      "\n",
      "\n",
      "\n",
      "From zqian@umich.edu Fri Jan  4 16:10:39 2008\n",
      "Return-Path: <postmaster@collab.sakaiproject.org>\n",
      "Received: from murder (mail.umich.edu [141.211.14.25])\n",
      "     by frankenstein.mail.umich.edu (Cyrus v2.3.8) with LMTPA;\n",
      "     Fri, 04 Jan 2008 16:10:39 -0500\n",
      "X-Sieve: CMU Sieve 2.3\n",
      "Received: from murder ([unix socket])\n",
      "     by mail.umich.edu (Cyrus v2.2.12) with LMTPA;\n",
      "     Fri, 04 Jan 2008 16:10:39 -0500\n",
      "Received: from ghostbusters.mr.itd.umich.edu (ghostbusters.mr.itd.umich.edu [141.211.93.144])\n",
      "    by panther.mail.umich.edu () with ESMTP id m04LAcZw014275;\n",
      "    Fri, 4 Jan 2008 16:10:38 -0500\n",
      "Received: FROM paploo.uhi.ac.uk (app1.prod.collab.uhi.ac.uk [194.35.219.184])\n",
      "    BY ghostbusters.mr.itd.umich.edu ID 477EA0C6.A0214.25480 ; \n",
      "     4 Jan 2008 16:10:33 -0500\n",
      "Received: from paploo.uhi.ac.uk (localhost [127.0.0.1])\n",
      "    by paploo.uhi.ac.uk (Postfix) with ESMTP id C48CDBB490;\n",
      "    Fri,  4 Jan 2008 21:10:31 +0000 (GMT)\n",
      "Message-ID: <200801042109.m04L92hb007923@nakamura.uits.iupui.edu>\n",
      "Mime-Version: 1.0\n",
      "Content-Transfer-Encoding: 7bit\n",
      "Received: from prod.collab.uhi.ac.uk ([194.35.219.182])\n",
      "          by paploo.uhi.ac.uk (JAMES SMTP Server 2.1.3) with SMTP ID 906\n",
      "          for <source@collab.sakaiproject.org>;\n",
      "          Fri, 4 Jan 2008 21:10:18 +0000 (GMT)\n",
      "Received: from nakamura.uits.iupui.edu (nakamura.uits.iupui.edu [134.68.220.122])\n",
      "    by shmi.uhi.ac.uk (Postfix) with ESMTP id 7D13042F71\n",
      "    for <source@collab.sakaiproject.org>; Fri,  4 Jan 2008 21:10:14 +0000 (GMT)\n",
      "Received: from nakamura.uits.iupui.edu (localhost [127.0.0.1])\n",
      "    by nakamura.uits.iupui.edu (8.12.11.20060308/8.12.11) with ESMTP id m04L927E007925\n",
      "    for <source@collab.sakaiproject.org>; Fri, 4 Jan 2008 16:09:02 -0500\n",
      "Received: (from apache@localhost)\n",
      "    by nakamura.uits.iupui.edu (8.12.11.20060308/8.12.11/Submit) id m04L92hb007923\n",
      "    for source@collab.sakaiproject.org; Fri, 4 Jan 2008 16:09:02 -0500\n",
      "Date: Fri, 4 Jan 2008 16:09:02 -0500\n",
      "X-Authentication-Warning: nakamura.uits.iupui.edu: apache set sender to zqian@umich.edu using -f\n",
      "To: source@collab.sakaiproject.org\n",
      "From: zqian@umich.edu\n",
      "Subject: [sakai] svn commit: r39770 - site-manage/branches/sakai_2-5-x/site-manage-tool/tool/src/webapp/vm/sitesetup\n",
      "X-Content-Type-Outer-Envelope: text/plain; charset=UTF-8\n",
      "X-Content-Type-Message-Body: text/plain; charset=UTF-8\n",
      "Content-Type: text/plain; charset=UTF-8\n",
      "X-DSPAM-Result: Innocent\n",
      "X-DSPAM-Processed: Fri Jan  4 16:10:39 2008\n",
      "X-DSPAM-Confidence: 0.6961\n",
      "X-DSPAM-Probability: 0.0000\n",
      "\n",
      "Details: http://source.sakaiproject.org/viewsvn/?view=rev&rev=39770\n",
      "\n",
      "Author: zqian@umich.edu\n",
      "Date: 2008-01-04 16:09:01 -0500 (Fri, 04 Jan 2008)\n",
      "New Revision: 39770\n",
      "\n",
      "Modified:\n",
      "site-manage/branches/sakai_2-5-x/site-manage-tool/tool/src/webapp/vm/sitesetup/chef_site-siteInfo-list.vm\n",
      "Log:\n",
      "merge fix to SAK-9996 into 2-5-x branch: svn merge -r 39687:39688 https://source.sakaiproject.org/svn/site-manage/trunk/\n",
      "\n",
      "----------------------\n",
      "This automatic notification message was sent by Sakai Collab (https://collab.sakaiproject.org/portal) from the Source site.\n",
      "You can modify how you receive notifications at My Workspace > Preferences.\n",
      "\n",
      "\n",
      "\n",
      "From rjlowe@iupui.edu Fri Jan  4 15:46:24 2008\n",
      "Return-Path: <postmaster@collab.sakaiproject.org>\n",
      "Received: from murder (mail.umich.edu [141.211.14.25])\n",
      "     by frankenstein.mail.umich.edu (Cyrus v2.3.8) with LMTPA;\n",
      "     Fri, 04 Jan 2008 15:46:24 -0500\n",
      "X-Sieve: CMU Sieve 2.3\n",
      "Received: from murder ([unix socket])\n",
      "     by mail.umich.edu (Cyrus v2.2.12) with LMTPA;\n",
      "     Fri, 04 Jan 2008 15:46:24 -0500\n",
      "Received: from dreamcatcher.mr.itd.umich.edu (dreamcatcher.mr.itd.umich.edu [141.211.14.43])\n",
      "    by panther.mail.umich.edu () with ESMTP id m04KkNbx032077;\n",
      "    Fri, 4 Jan 2008 15:46:23 -0500\n",
      "Received: FROM paploo.uhi.ac.uk (app1.prod.collab.uhi.ac.uk [194.35.219.184])\n",
      "    BY dreamcatcher.mr.itd.umich.edu ID 477E9B13.2F3BC.22965 ; \n",
      "     4 Jan 2008 15:46:13 -0500\n",
      "Received: from paploo.uhi.ac.uk (localhost [127.0.0.1])\n",
      "    by paploo.uhi.ac.uk (Postfix) with ESMTP id 4AE03BB552;\n",
      "    Fri,  4 Jan 2008 20:46:13 +0000 (GMT)\n",
      "Message-ID: <200801042044.m04Kiem3007881@nakamura.uits.iupui.edu>\n",
      "Mime-Version: 1.0\n",
      "Content-Transfer-Encoding: 7bit\n",
      "Received: from prod.collab.uhi.ac.uk ([194.35.219.182])\n",
      "          by paploo.uhi.ac.uk (JAMES SMTP Server 2.1.3) with SMTP ID 38\n",
      "          for <source@collab.sakaiproject.org>;\n",
      "          Fri, 4 Jan 2008 20:45:56 +0000 (GMT)\n",
      "Received: from nakamura.uits.iupui.edu (nakamura.uits.iupui.edu [134.68.220.122])\n",
      "    by shmi.uhi.ac.uk (Postfix) with ESMTP id A55D242F57\n",
      "    for <source@collab.sakaiproject.org>; Fri,  4 Jan 2008 20:45:52 +0000 (GMT)\n",
      "Received: from nakamura.uits.iupui.edu (localhost [127.0.0.1])\n",
      "    by nakamura.uits.iupui.edu (8.12.11.20060308/8.12.11) with ESMTP id m04KieqE007883\n",
      "    for <source@collab.sakaiproject.org>; Fri, 4 Jan 2008 15:44:40 -0500\n",
      "Received: (from apache@localhost)\n",
      "    by nakamura.uits.iupui.edu (8.12.11.20060308/8.12.11/Submit) id m04Kiem3007881\n",
      "    for source@collab.sakaiproject.org; Fri, 4 Jan 2008 15:44:40 -0500\n",
      "Date: Fri, 4 Jan 2008 15:44:40 -0500\n",
      "X-Authentication-Warning: nakamura.uits.iupui.edu: apache set sender to rjlowe@iupui.edu using -f\n",
      "To: source@collab.sakaiproject.org\n",
      "From: rjlowe@iupui.edu\n",
      "Subject: [sakai] svn commit: r39769 - in gradebook/trunk/app/ui/src: java/org/sakaiproject/tool/gradebook/ui/helpers/beans java/org/sakaiproject/tool/gradebook/ui/helpers/producers webapp/WEB-INF webapp/WEB-INF/bundle\n",
      "X-Content-Type-Outer-Envelope: text/plain; charset=UTF-8\n",
      "X-Content-Type-Message-Body: text/plain; charset=UTF-8\n",
      "Content-Type: text/plain; charset=UTF-8\n",
      "X-DSPAM-Result: Innocent\n",
      "X-DSPAM-Processed: Fri Jan  4 15:46:24 2008\n",
      "X-DSPAM-Confidence: 0.7565\n",
      "X-DSPAM-Probability: 0.0000\n",
      "\n",
      "Details: http://source.sakaiproject.org/viewsvn/?view=rev&rev=39769\n",
      "\n",
      "Date: 2008-01-04 15:44:39 -0500 (Fri, 04 Jan 2008)\n",
      "New Revision: 39769\n",
      "\n",
      "Modified:\n",
      "gradebook/trunk/app/ui/src/java/org/sakaiproject/tool/gradebook/ui/helpers/beans/AssignmentGradeRecordBean.java\n",
      "gradebook/trunk/app/ui/src/java/org/sakaiproject/tool/gradebook/ui/helpers/producers/GradeGradebookItemProducer.java\n",
      "gradebook/trunk/app/ui/src/webapp/WEB-INF/applicationContext.xml\n",
      "gradebook/trunk/app/ui/src/webapp/WEB-INF/bundle/messages.properties\n",
      "gradebook/trunk/app/ui/src/webapp/WEB-INF/requestContext.xml\n",
      "Log:\n",
      "SAK-12180 - Fixed errors with grading helper\n",
      "\n",
      "----------------------\n",
      "This automatic notification message was sent by Sakai Collab (https://collab.sakaiproject.org/portal) from the Source site.\n",
      "You can modify how you receive notifications at My Workspace > Preferences.\n",
      "\n",
      "\n",
      "\n",
      "From zqian@umich.edu Fri Jan  4 15:03:18 2008\n",
      "Return-Path: <postmaster@collab.sakaiproject.org>\n",
      "Received: from murder (mail.umich.edu [141.211.14.46])\n",
      "     by frankenstein.mail.umich.edu (Cyrus v2.3.8) with LMTPA;\n",
      "     Fri, 04 Jan 2008 15:03:18 -0500\n",
      "X-Sieve: CMU Sieve 2.3\n",
      "Received: from murder ([unix socket])\n",
      "     by mail.umich.edu (Cyrus v2.2.12) with LMTPA;\n",
      "     Fri, 04 Jan 2008 15:03:18 -0500\n",
      "Received: from firestarter.mr.itd.umich.edu (firestarter.mr.itd.umich.edu [141.211.14.83])\n",
      "    by fan.mail.umich.edu () with ESMTP id m04K3HGF006563;\n",
      "    Fri, 4 Jan 2008 15:03:17 -0500\n",
      "Received: FROM paploo.uhi.ac.uk (app1.prod.collab.uhi.ac.uk [194.35.219.184])\n",
      "    BY firestarter.mr.itd.umich.edu ID 477E9100.8F7F4.1590 ; \n",
      "     4 Jan 2008 15:03:15 -0500\n",
      "Received: from paploo.uhi.ac.uk (localhost [127.0.0.1])\n",
      "    by paploo.uhi.ac.uk (Postfix) with ESMTP id 57770BB477;\n",
      "    Fri,  4 Jan 2008 20:03:09 +0000 (GMT)\n",
      "Message-ID: <200801042001.m04K1cO0007738@nakamura.uits.iupui.edu>\n",
      "Mime-Version: 1.0\n",
      "Content-Transfer-Encoding: 7bit\n",
      "Received: from prod.collab.uhi.ac.uk ([194.35.219.182])\n",
      "          by paploo.uhi.ac.uk (JAMES SMTP Server 2.1.3) with SMTP ID 622\n",
      "          for <source@collab.sakaiproject.org>;\n",
      "          Fri, 4 Jan 2008 20:02:46 +0000 (GMT)\n",
      "Received: from nakamura.uits.iupui.edu (nakamura.uits.iupui.edu [134.68.220.122])\n",
      "    by shmi.uhi.ac.uk (Postfix) with ESMTP id AB4D042F4D\n",
      "    for <source@collab.sakaiproject.org>; Fri,  4 Jan 2008 20:02:50 +0000 (GMT)\n",
      "Received: from nakamura.uits.iupui.edu (localhost [127.0.0.1])\n",
      "    by nakamura.uits.iupui.edu (8.12.11.20060308/8.12.11) with ESMTP id m04K1cXv007740\n",
      "    for <source@collab.sakaiproject.org>; Fri, 4 Jan 2008 15:01:38 -0500\n",
      "Received: (from apache@localhost)\n",
      "    by nakamura.uits.iupui.edu (8.12.11.20060308/8.12.11/Submit) id m04K1cO0007738\n",
      "    for source@collab.sakaiproject.org; Fri, 4 Jan 2008 15:01:38 -0500\n",
      "Date: Fri, 4 Jan 2008 15:01:38 -0500\n",
      "X-Authentication-Warning: nakamura.uits.iupui.edu: apache set sender to zqian@umich.edu using -f\n",
      "To: source@collab.sakaiproject.org\n",
      "From: zqian@umich.edu\n",
      "Subject: [sakai] svn commit: r39766 - site-manage/branches/sakai_2-4-x/site-manage-tool/tool/src/java/org/sakaiproject/site/tool\n",
      "X-Content-Type-Outer-Envelope: text/plain; charset=UTF-8\n",
      "X-Content-Type-Message-Body: text/plain; charset=UTF-8\n",
      "Content-Type: text/plain; charset=UTF-8\n",
      "X-DSPAM-Result: Innocent\n",
      "X-DSPAM-Processed: Fri Jan  4 15:03:18 2008\n",
      "X-DSPAM-Confidence: 0.7626\n",
      "X-DSPAM-Probability: 0.0000\n",
      "\n",
      "Details: http://source.sakaiproject.org/viewsvn/?view=rev&rev=39766\n",
      "\n",
      "Author: zqian@umich.edu\n",
      "Date: 2008-01-04 15:01:37 -0500 (Fri, 04 Jan 2008)\n",
      "New Revision: 39766\n",
      "\n",
      "Modified:\n",
      "site-manage/branches/sakai_2-4-x/site-manage-tool/tool/src/java/org/sakaiproject/site/tool/SiteAction.java\n",
      "Log:\n",
      "merge fix to SAK-10788 into site-manage 2.4.x branch:\n",
      "\n",
      "Sakai Source Repository      #38024      Wed Nov 07 14:54:46 MST 2007      zqian@umich.edu       Fix to SAK-10788: If a provided id in a couse site is fake or doesn't provide any user information, Site Info appears to be like project site with empty participant list\n",
      "\n",
      "Watch for enrollments object being null and concatenate provider ids when there are more than one.\n",
      "Files Changed\n",
      "MODIFY /site-manage/trunk/site-manage-tool/tool/src/java/org/sakaiproject/site/tool/SiteAction.java \n",
      "\n"
     ]
    }
   ],
   "source": [
    "print(text)"
   ]
  },
  {
   "cell_type": "code",
   "execution_count": 7,
   "metadata": {},
   "outputs": [],
   "source": []
  },
  {
   "cell_type": "code",
   "execution_count": 70,
   "metadata": {},
   "outputs": [
    {
     "data": {
      "text/plain": [
       "115"
      ]
     },
     "execution_count": 70,
     "metadata": {},
     "output_type": "execute_result"
    }
   ],
   "source": []
  },
  {
   "cell_type": "code",
   "execution_count": null,
   "metadata": {},
   "outputs": [],
   "source": []
  },
  {
   "cell_type": "code",
   "execution_count": 88,
   "metadata": {},
   "outputs": [
    {
     "ename": "NameError",
     "evalue": "name 'line' is not defined",
     "output_type": "error",
     "traceback": [
      "\u001b[0;31m---------------------------------------------------------------------------\u001b[0m",
      "\u001b[0;31mNameError\u001b[0m                                 Traceback (most recent call last)",
      "\u001b[0;32m<ipython-input-88-2e9b96d342df>\u001b[0m in \u001b[0;36m<module>\u001b[0;34m()\u001b[0m\n\u001b[0;32m----> 1\u001b[0;31m \u001b[0mline\u001b[0m\u001b[0;34m.\u001b[0m\u001b[0mrstrip\u001b[0m\u001b[0;34m(\u001b[0m\u001b[0;34m)\u001b[0m\u001b[0;34m\u001b[0m\u001b[0m\n\u001b[0m",
      "\u001b[0;31mNameError\u001b[0m: name 'line' is not defined"
     ]
    }
   ],
   "source": [
    "line.rstrip()"
   ]
  },
  {
   "cell_type": "code",
   "execution_count": 89,
   "metadata": {},
   "outputs": [
    {
     "data": {
      "text/plain": [
       "19"
      ]
     },
     "execution_count": 89,
     "metadata": {},
     "output_type": "execute_result"
    }
   ],
   "source": [
    "len('X-DSPAM-Confidence:')"
   ]
  },
  {
   "cell_type": "code",
   "execution_count": 129,
   "metadata": {},
   "outputs": [
    {
     "name": "stdout",
     "output_type": "stream",
     "text": [
      " 0.8475\n",
      "\n",
      " 0.6961\n",
      "\n",
      " 0.7565\n",
      "\n",
      "the average is  0.7667\n"
     ]
    }
   ],
   "source": [
    "#find average in email\n",
    "fhand = open('mailbox.txt')\n",
    "\n",
    "key = 'X-DSPAM-Confidence:'\n",
    "keyword = key.upper()\n",
    "\n",
    "ncount = 0\n",
    "sum = 0\n",
    "answer = 0\n",
    "\n",
    "for i in fhand :\n",
    "    inp=fhand.readline()  \n",
    "\n",
    "    \n",
    "    if int(inp.upper().find(keyword)) != -1 :\n",
    "        print(inp[19:])\n",
    "        num = float(inp[19:])\n",
    "        sum = sum + num\n",
    "        ncount = ncount +1\n",
    "        answer = sum/ncount\n",
    "\n",
    "\n",
    "\n",
    "print ('the average is ', answer)\n",
    "\n",
    "\n",
    "#######################\n"
   ]
  },
  {
   "cell_type": "code",
   "execution_count": null,
   "metadata": {},
   "outputs": [],
   "source": []
  },
  {
   "cell_type": "code",
   "execution_count": null,
   "metadata": {},
   "outputs": [],
   "source": []
  }
 ],
 "metadata": {
  "kernelspec": {
   "display_name": "Python 3",
   "language": "python",
   "name": "python3"
  },
  "language_info": {
   "codemirror_mode": {
    "name": "ipython",
    "version": 3
   },
   "file_extension": ".py",
   "mimetype": "text/x-python",
   "name": "python",
   "nbconvert_exporter": "python",
   "pygments_lexer": "ipython3",
   "version": "3.6.5"
  }
 },
 "nbformat": 4,
 "nbformat_minor": 2
}
