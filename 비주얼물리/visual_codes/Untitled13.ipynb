{
 "cells": [
  {
   "cell_type": "code",
   "execution_count": 2,
   "metadata": {},
   "outputs": [],
   "source": [
    "from vpython import*\n",
    "\n",
    "ball = sphere(pos=vec(0,10,0), radius=1, color=color.red)\n",
    "box1 = box(pos=vec(0,0,0), size=vec(20,0.5,20), color=color.green)\n",
    "\n",
    "ball.velocity=vec(0,-1,0)\n",
    "\n",
    "t=0\n",
    "deltat=0.5\n",
    "\n",
    "while t<20 :\n",
    "    if ball.pos.y <1.5 :\n",
    "        ball.velocity.y = -ball.velocity.y\n",
    "        \n",
    "        \n",
    "    ball.pos=ball.pos + ball.velocity*deltat\n",
    "    t = t+deltat"
   ]
  },
  {
   "cell_type": "code",
   "execution_count": null,
   "metadata": {},
   "outputs": [],
   "source": []
  }
 ],
 "metadata": {
  "kernelspec": {
   "display_name": "VPython",
   "language": "python",
   "name": "vpython"
  },
  "language_info": {
   "codemirror_mode": {
    "name": "ipython",
    "version": 3
   },
   "file_extension": ".py",
   "mimetype": "text/x-python",
   "name": "python",
   "nbconvert_exporter": "python",
   "pygments_lexer": "ipython3",
   "version": "3.6.5"
  }
 },
 "nbformat": 4,
 "nbformat_minor": 2
}
