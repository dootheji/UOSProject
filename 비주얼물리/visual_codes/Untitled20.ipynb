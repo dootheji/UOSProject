{
 "cells": [
  {
   "cell_type": "code",
   "execution_count": null,
   "metadata": {},
   "outputs": [],
   "source": [
    "#1 bouncing ball\n",
    "from vpython import*\n",
    "\n",
    "ball = sphere(pos=vec(0,10,0), radius=1, color=color.red)\n",
    "box1 = box(pos=vec(0,0,0), size=vec(20,0.5,20), color=color.green)\n",
    "\n",
    "ball.velocity=vec(0,-1,0)\n",
    "\n",
    "t=0\n",
    "deltat=0.005\n",
    "\n",
    "while t<100 :\n",
    "    rate(1000)\n",
    "    if ball.pos.y <1.5 :\n",
    "        ball.velocity.y = -ball.velocity.y\n",
    "    \n",
    "    if ball.pos.y>10 :\n",
    "        ball.velocity.y = -ball.velocity.y        \n",
    "        \n",
    "    ball.pos=ball.pos + ball.velocity*(1+deltat*9.8)*deltat\n",
    "    t = t+deltat"
   ]
  },
  {
   "cell_type": "code",
   "execution_count": null,
   "metadata": {},
   "outputs": [
    {
     "name": "stdout",
     "output_type": "stream",
     "text": [
      "ERROR! Session/line number was not unique in database. History logging moved to new session 126\n"
     ]
    }
   ],
   "source": [
    "from vpython import *\n",
    "ball = sphere( pos=vector(-5,0,0), radius=0.5, color=color.cyan,make_trail=True, trail_type=\"points\", interval=10, retain=10)\n",
    "wallR = box(pos=vector(6,0,0), size=vector(0.2,12,12), color=color.green)\n",
    "ball.velocity = vector(25,1,0)\n",
    "vscale = 0.1\n",
    "varr = arrow(pos=ball.pos, axis=vscale*ball.velocity, color=color.yellow)\n",
    "deltat = 0.005\n",
    "t=0\n",
    "#ball.trail = points(color=ball.color)   #Create trail\n",
    "\n",
    "\n",
    "while t < 3:\n",
    "   rate(100)\n",
    "   if ball.pos.x > wallR.pos.x:\n",
    "       ball.velocity.x = -ball.velocity.x\n",
    "\n",
    "   ball.pos = ball.pos + ball.velocity*deltat\n",
    "   t  = t + deltat\n",
    "#   ball.trail.append(pos=ball.pos)    # Append trail\n",
    "\n",
    " \n",
    "\n",
    "   varr.pos = ball.pos     #Position array\n",
    "   varr.axis = vscale*ball.velocity   # Vector size\n",
    "\n",
    "\n"
   ]
  },
  {
   "cell_type": "code",
   "execution_count": null,
   "metadata": {},
   "outputs": [],
   "source": []
  }
 ],
 "metadata": {
  "kernelspec": {
   "display_name": "VPython",
   "language": "python",
   "name": "vpython"
  },
  "language_info": {
   "codemirror_mode": {
    "name": "ipython",
    "version": 3
   },
   "file_extension": ".py",
   "mimetype": "text/x-python",
   "name": "python",
   "nbconvert_exporter": "python",
   "pygments_lexer": "ipython3",
   "version": "3.6.5"
  }
 },
 "nbformat": 4,
 "nbformat_minor": 2
}
