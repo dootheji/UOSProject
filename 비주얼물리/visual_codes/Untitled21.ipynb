{
 "cells": [
  {
   "cell_type": "code",
   "execution_count": 2,
   "metadata": {},
   "outputs": [],
   "source": [
    "from vpython import *\n",
    "ball = sphere( pos=vector(-5,0,0), radius=0.5, color=color.cyan,make_trail=True, trail_type=\"points\",\n",
    "              interval=10, retain=10)\n",
    "wallR = box(pos=vector(6,0,0), size=vector(0.2,12,12), color=color.green)\n",
    "ball.velocity = vector(20,50,0)\n",
    "vscale = 0.1\n",
    "varr = arrow(pos=ball.pos, axis=vscale*ball.velocity, color=color.yellow)\n",
    "deltat = 0.005\n",
    "t=0\n",
    "#ball.trail = points(color=ball.color)   #Create trail\n",
    "\n",
    "\n",
    "while t < 3:\n",
    "   rate(100)\n",
    "   if ball.pos.x > wallR.pos.x:\n",
    "       ball.velocity.x = -ball.velocity.x\n",
    "   if ball.pos.x < \n",
    "   ball.pos = ball.pos + ball.velocity*deltat\n",
    "   t  = t + deltat\n",
    "#   ball.trail.append(pos=ball.pos)    # Append trail\n",
    "\n",
    " \n",
    "\n",
    "   varr.pos = ball.pos     #Position array\n",
    "   varr.axis = vscale*ball.velocity   # Vector size\n",
    "    "
   ]
  },
  {
   "cell_type": "code",
   "execution_count": null,
   "metadata": {},
   "outputs": [],
   "source": []
  }
 ],
 "metadata": {
  "kernelspec": {
   "display_name": "VPython",
   "language": "python",
   "name": "vpython"
  },
  "language_info": {
   "codemirror_mode": {
    "name": "ipython",
    "version": 3
   },
   "file_extension": ".py",
   "mimetype": "text/x-python",
   "name": "python",
   "nbconvert_exporter": "python",
   "pygments_lexer": "ipython3",
   "version": "3.6.5"
  }
 },
 "nbformat": 4,
 "nbformat_minor": 2
}
