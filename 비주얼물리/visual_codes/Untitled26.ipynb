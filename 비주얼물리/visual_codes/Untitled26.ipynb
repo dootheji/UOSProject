{
 "cells": [
  {
   "cell_type": "code",
   "execution_count": null,
   "metadata": {},
   "outputs": [],
   "source": [
    "#homework 1\n",
    "#1\n",
    "import numpy as np\n",
    "from numpy import linalg as LA\n",
    "\n",
    "\n",
    "H = -13.6\n",
    "t = -3\n",
    "#a->b\n",
    "a = np.matrix([[0,t],[t,0]])\n",
    "print(\"H : \")\n",
    "print(a)\n",
    "print(\"\")\n",
    "\n",
    "w,v=LA.eig(a)\n",
    "print(\"eigen value : \")\n",
    "print(w)\n",
    "print(\"\")\n",
    "print(\"eigen vector : \")\n",
    "print(v)\n",
    "print(\"\")\n"
   ]
  },
  {
   "cell_type": "code",
   "execution_count": null,
   "metadata": {},
   "outputs": [],
   "source": []
  }
 ],
 "metadata": {
  "kernelspec": {
   "display_name": "VPython",
   "language": "python",
   "name": "vpython"
  },
  "language_info": {
   "codemirror_mode": {
    "name": "ipython",
    "version": 3
   },
   "file_extension": ".py",
   "mimetype": "text/x-python",
   "name": "python",
   "nbconvert_exporter": "python",
   "pygments_lexer": "ipython3",
   "version": "3.6.5"
  }
 },
 "nbformat": 4,
 "nbformat_minor": 2
}
