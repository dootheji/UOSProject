{
 "cells": [
  {
   "cell_type": "code",
   "execution_count": 1,
   "metadata": {},
   "outputs": [
    {
     "name": "stdout",
     "output_type": "stream",
     "text": [
      "99\n"
     ]
    }
   ],
   "source": [
    "\n",
    "import numpy as np\n",
    "from numpy import linalg as LA\n",
    "import matplotlib.pyplot as plt\n",
    "E0 = 0                  # site energy\n",
    "t = 1                   # interatomic hopping energy\n",
    "\n",
    "W = []\n",
    "\n",
    "r = np.arange(2,101)\n",
    "n = len(r)\n",
    "#print (r)\n",
    "#print (n)\n",
    "\n",
    "for k in r:\n",
    "    c = k\n",
    "    N = np.linspace(1, k, k)\n",
    "    H = np.zeros((k,k))   # Hamiltonian\n",
    "    for i in range(k):\n",
    "        for j in range(c):\n",
    "            if i == j:\n",
    "                H[i,j] = E0  # On-site energy\n",
    "            elif (i < np.max(range(k))):\n",
    "                H[i,i+1] = t\n",
    "                \n",
    "    H = H + H.transpose()  # 100x100\n",
    "    #print(H)\n",
    "    #print(H.shape)\n",
    "    w, v = LA.eig(H)\n",
    "    #print(w)\n",
    "    #print(v)\n",
    "    W.append(w)\n",
    "nn = len(W)\n",
    "print (nn)\n",
    "#print (W)\n",
    "\n",
    "plt.figure()\n",
    "for kk in range(0,10):\n",
    "     for el in W[kk]:\n",
    "        plt.axhline(el,0+((kk)/10),0.1+((kk)/10),color=\"C0\")\n",
    "\n",
    "plt.figure()\n",
    "for kk in range(nn):\n",
    "     for el in W[kk]:\n",
    "        plt.axhline(el,0+(kk/99),0.004+(kk/99),color=\"C0\")\n",
    "        \n",
    "    \n",
    "#plt.ylabel(\"E (eV)\")\n",
    "#plt.title(\"Eigen energy spectrum as a function of N for a Linear chain of N-atoms\")\n",
    "\n",
    "\n"
   ]
  },
  {
   "cell_type": "code",
   "execution_count": null,
   "metadata": {},
   "outputs": [],
   "source": []
  }
 ],
 "metadata": {
  "kernelspec": {
   "display_name": "Python 3",
   "language": "python",
   "name": "python3"
  },
  "language_info": {
   "codemirror_mode": {
    "name": "ipython",
    "version": 3
   },
   "file_extension": ".py",
   "mimetype": "text/x-python",
   "name": "python",
   "nbconvert_exporter": "python",
   "pygments_lexer": "ipython3",
   "version": "3.6.5"
  }
 },
 "nbformat": 4,
 "nbformat_minor": 2
}
